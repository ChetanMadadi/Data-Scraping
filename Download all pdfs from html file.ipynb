{
  "nbformat": 4,
  "nbformat_minor": 0,
  "metadata": {
    "colab": {
      "provenance": []
    },
    "kernelspec": {
      "name": "python3",
      "display_name": "Python 3"
    },
    "language_info": {
      "name": "python"
    }
  },
  "cells": [
    {
      "cell_type": "code",
      "execution_count": null,
      "metadata": {
        "id": "F3vgxnzw1Rx9"
      },
      "outputs": [],
      "source": [
        "#!/usr/bin/env python\n",
        "# coding: utf-8\n",
        "\n",
        "# In[4]:\n",
        "\n",
        "\n",
        "import os\n",
        "\n",
        "# def extract_url_pdf(input_url,folder_path=os.getcwd()):\n",
        "def extract_url_pdf(input_url,folder_path=\"/content/drive/MyDrive/Colab Notebooks/2019/Law\"):\n",
        "    \n",
        "    import os\n",
        "    import requests\n",
        "    from urllib.parse import urljoin\n",
        "    from bs4 import BeautifulSoup\n",
        "    import pandas as pd\n",
        "    import datetime\n",
        "    \n",
        "    url = input_url\n",
        "\n",
        "    #If there is no such folder, the script will create one automatically\n",
        "    folder_location = folder_path\n",
        "    if not os.path.exists(folder_location):os.mkdir(folder_location)\n",
        "\n",
        "    response = requests.get(url)\n",
        "    soup= BeautifulSoup(response.text, \"html.parser\") \n",
        "\n",
        "    link_text=list()\n",
        "    link_href=list()\n",
        "    link_file=list()\n",
        "    \n",
        "    counter=0\n",
        "\n",
        "    for link in soup.select(\"a[href$='.pdf']\"):\n",
        "        #Name the pdf files using the last portion of each link which are unique in this case\n",
        "        \n",
        "        filename = os.path.join(folder_location,link['href'].split('/')[-1])\n",
        "        with open(filename, 'wb') as f:\n",
        "            f.write(requests.get(urljoin(url,link['href'])).content)\n",
        "            \n",
        "        link_text.append(str(link.text))\n",
        "        \n",
        "        link_href.append(link['href'])\n",
        "\n",
        "        link_file.append(link['href'].split('/')[-1])\n",
        "        \n",
        "        counter+=1\n",
        "\n",
        "        print(counter, \"-Files Extracted from URL named \",link['href'].split('/')[-1])\n",
        "        \n",
        "    table_dict={\"Text\":link_text,\"Url_Link\":link_href,\"File Name\":link_file}\n",
        "\n",
        "    df=pd.DataFrame(table_dict)\n",
        "    \n",
        "    time_stamp = datetime.datetime.now().strftime('%Y-%m-%d %H-%M-%S')\n",
        "    \n",
        "    print(\"Creating an Excel file with Name of FIle, Url Link and Link Text...\")\n",
        "    \n",
        "\n",
        "    new_excel_file=os.path.join(folder_location,\"Excel_Output_\"+time_stamp+\".xlsx\")\n",
        "\n",
        "    writer = pd.ExcelWriter(new_excel_file, engine='openpyxl')\n",
        "\n",
        "    df.to_excel(writer,sheet_name=\"Output\")\n",
        "\n",
        "    \n",
        "    writer.save()\n",
        "\n",
        "\n",
        "    print(\"All Pdf files downloaded and Excel File Created\")\n",
        "\n",
        "\n",
        "# In[2]:\n",
        "\n",
        "\n",
        "\n",
        "#urls to try:\n",
        "\n",
        "# https://www.icai.org/category/bos-important-announcements\n",
        "# https://www.icai.org/post.html?post_id=17843\n",
        "#https://www.icai.org/post.html?post_id=17825\n",
        "# https://cbic-gst.gov.in/central-tax-notifications.html\n",
        "# https://trends.builtwith.com/websitelist/Responsive-Tables\n",
        "\n",
        "\n",
        "# In[5]:\n",
        "\n",
        "\n",
        "# extract_url_pdf(input_url=\"https://www.icai.org/post.html?post_id=17843\")\n",
        "\n",
        "\n",
        "# In[6]:\n",
        "\n",
        "\n",
        "# extract_url_pdf(input_url=\"https://cbic-gst.gov.in/central-tax-notifications.html\")\n",
        "\n",
        "# https://cbic-gst.gov.in/central-tax-notifications.html\n",
        "\n",
        "\n",
        "# In[ ]:"
      ]
    },
    {
      "cell_type": "code",
      "source": [
        "extract_url_pdf(input_url=\"https://www.nirfindia.org/2019/LawRanking.html\")"
      ],
      "metadata": {
        "colab": {
          "base_uri": "https://localhost:8080/"
        },
        "id": "CtfErIZw18wP",
        "outputId": "d6b58451-77e7-429c-86fc-4be78ec52de9"
      },
      "execution_count": null,
      "outputs": [
        {
          "output_type": "stream",
          "name": "stdout",
          "text": [
            "1 -Files Extracted from URL named  IR-L-U-0238.pdf\n",
            "2 -Files Extracted from URL named  IR-L-U-0111.pdf\n",
            "3 -Files Extracted from URL named  IR-L-N-18.pdf\n",
            "4 -Files Extracted from URL named  IR-L-U-0573.pdf\n",
            "5 -Files Extracted from URL named  IR-L-U-0585.pdf\n",
            "6 -Files Extracted from URL named  IR-L-U-0414.pdf\n",
            "7 -Files Extracted from URL named  IR-L-C-19328.pdf\n",
            "8 -Files Extracted from URL named  IR-L-U-0108.pdf\n",
            "9 -Files Extracted from URL named  IR-L-U-0134.pdf\n",
            "10 -Files Extracted from URL named  IR-L-U-0386.pdf\n",
            "11 -Files Extracted from URL named  IR-L-U-0285.pdf\n",
            "12 -Files Extracted from URL named  IR-L-U-0356.pdf\n",
            "13 -Files Extracted from URL named  IR-L-U-0103.pdf\n",
            "14 -Files Extracted from URL named  IR-L-U-0511.pdf\n",
            "15 -Files Extracted from URL named  IR-L-C-23907.pdf\n",
            "Creating an Excel file with Name of FIle, Url Link and Link Text...\n",
            "All Pdf files downloaded and Excel File Created\n"
          ]
        }
      ]
    },
    {
      "cell_type": "code",
      "source": [],
      "metadata": {
        "id": "sXx3UefvGDO2"
      },
      "execution_count": null,
      "outputs": []
    }
  ]
}